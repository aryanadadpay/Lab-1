{
  "nbformat": 4,
  "nbformat_minor": 0,
  "metadata": {
    "colab": {
      "name": "Untitled0.ipynb",
      "provenance": [],
      "authorship_tag": "ABX9TyPy+/j7L+YF6260fWQlJVRM",
      "include_colab_link": true
    },
    "kernelspec": {
      "name": "python3",
      "display_name": "Python 3"
    }
  },
  "cells": [
    {
      "cell_type": "markdown",
      "metadata": {
        "id": "view-in-github",
        "colab_type": "text"
      },
      "source": [
        "<a href=\"https://colab.research.google.com/github/aryanadadpay/Lab-1/blob/master/Untitled0.ipynb\" target=\"_parent\"><img src=\"https://colab.research.google.com/assets/colab-badge.svg\" alt=\"Open In Colab\"/></a>"
      ]
    },
    {
      "cell_type": "markdown",
      "metadata": {
        "id": "5zXOE3LP9wMK",
        "colab_type": "text"
      },
      "source": [
        "### **LAB 3 - COVID-19 Cases Animation**"
      ]
    },
    {
      "cell_type": "markdown",
      "metadata": {
        "id": "uXn4MxJl98Ya",
        "colab_type": "text"
      },
      "source": [
        "By Aryana Dadpay"
      ]
    },
    {
      "cell_type": "markdown",
      "metadata": {
        "id": "my8nbcE09_zl",
        "colab_type": "text"
      },
      "source": [
        "The data shown in this Lab is from Johns Hopkins Novel Coronavirus cases."
      ]
    },
    {
      "cell_type": "markdown",
      "metadata": {
        "id": "GCz3uN5n9uZS",
        "colab_type": "text"
      },
      "source": [
        "![alt text](https://drive.google.com/uc?id=1AjWVLyEvOl-wR7foeGzAxKnVhEDYiVij)"
      ]
    }
  ]
}