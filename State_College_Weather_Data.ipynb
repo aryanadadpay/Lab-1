{
  "nbformat": 4,
  "nbformat_minor": 0,
  "metadata": {
    "colab": {
      "name": "State College Weather Data",
      "provenance": [],
      "authorship_tag": "ABX9TyNQoI+mHIzbisTfT9BU7roO",
      "include_colab_link": true
    },
    "kernelspec": {
      "name": "python3",
      "display_name": "Python 3"
    }
  },
  "cells": [
    {
      "cell_type": "markdown",
      "metadata": {
        "id": "view-in-github",
        "colab_type": "text"
      },
      "source": [
        "<a href=\"https://colab.research.google.com/github/aryanadadpay/Lab-1/blob/master/State_College_Weather_Data.ipynb\" target=\"_parent\"><img src=\"https://colab.research.google.com/assets/colab-badge.svg\" alt=\"Open In Colab\"/></a>"
      ]
    },
    {
      "cell_type": "code",
      "metadata": {
        "id": "26IuvNzd8NVi",
        "colab_type": "code",
        "colab": {}
      },
      "source": [
        ""
      ],
      "execution_count": 0,
      "outputs": []
    },
    {
      "cell_type": "markdown",
      "metadata": {
        "id": "IJ5_7mqKSfUD",
        "colab_type": "text"
      },
      "source": [
        "Outline:\n",
        "I collected data provided by NOAA to analyze the amount of snowfall in State College, PA from January-April 2018.  January had a total of 5 inches, February had 9.7, March had 6.9, and April had 5.6."
      ]
    },
    {
      "cell_type": "markdown",
      "metadata": {
        "id": "wWGHOx4TTKVW",
        "colab_type": "text"
      },
      "source": [
        "Conclusion: After graphing and analyzing the data, I can conclude that peak snowfall occurred in February and decreased in the following months. The lowest amount of snowfall occurred in January, drastically increased in February, and steadily lowered from February to March, and March to April."
      ]
    },
    {
      "cell_type": "code",
      "metadata": {
        "id": "syM4_od3U7lU",
        "colab_type": "code",
        "colab": {}
      },
      "source": [
        ""
      ],
      "execution_count": 0,
      "outputs": []
    },
    {
      "cell_type": "markdown",
      "metadata": {
        "id": "vwzzKsN2FMEB",
        "colab_type": "text"
      },
      "source": [
        ""
      ]
    },
    {
      "cell_type": "markdown",
      "metadata": {
        "id": "cKk76I0IRkLd",
        "colab_type": "text"
      },
      "source": [
        "![alt text](https://raw.githubusercontent.com/aryanadadpay/Lab-1/master/Snow%20in%20State%20College%20Jan-April%202018/Screen%20Shot%202020-01-24%20at%208.10.15%20PM.png)"
      ]
    }
  ]
}